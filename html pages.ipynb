{
 "cells": [
  {
   "cell_type": "code",
   "execution_count": 22,
   "metadata": {},
   "outputs": [],
   "source": [
    "import requests\n",
    "import os\n",
    "import sys"
   ]
  },
  {
   "cell_type": "code",
   "execution_count": 23,
   "metadata": {},
   "outputs": [],
   "source": [
    "def data_from_page():\n",
    "    for x in range(2013,2019):\n",
    "        for y in range(1,13):\n",
    "            if y<=9:\n",
    "                url='http://en.tutiempo.net/climate/0{}-{}/ws-431280.html'.format(y,x)\n",
    "            else:\n",
    "                url='http://en.tutiempo.net/climate/{}-{}/ws-431280.html'.format(y,x)\n",
    "            data=requests.get(url)\n",
    "            utf_en=data.text.encode('utf=8') #some charecters are in html tag which we need to fix it \n",
    "    \n",
    "            if not(os.path.exists('C:/practice/project/AIR QUALITY PROJECT/html_data/{}'.format(x))):\n",
    "                os.makedirs('C:/practice/project/AIR QUALITY PROJECT/html_data/{}'.format(x))\n",
    "            with open('C:/practice/project/AIR QUALITY PROJECT/html_data/{}/{}.html'.format(x,y),'wb') as text:\n",
    "                text.write(utf_en)\n",
    "    sys.stdout.flush()#flush every thing created in file\n",
    "        \n",
    "    "
   ]
  },
  {
   "cell_type": "code",
   "execution_count": 24,
   "metadata": {},
   "outputs": [],
   "source": [
    "if __name__=='__main__':\n",
    "    data_from_page()"
   ]
  },
  {
   "cell_type": "code",
   "execution_count": null,
   "metadata": {},
   "outputs": [],
   "source": []
  }
 ],
 "metadata": {
  "kernelspec": {
   "display_name": "Python 3",
   "language": "python",
   "name": "python3"
  },
  "language_info": {
   "codemirror_mode": {
    "name": "ipython",
    "version": 3
   },
   "file_extension": ".py",
   "mimetype": "text/x-python",
   "name": "python",
   "nbconvert_exporter": "python",
   "pygments_lexer": "ipython3",
   "version": "3.7.3"
  }
 },
 "nbformat": 4,
 "nbformat_minor": 2
}
