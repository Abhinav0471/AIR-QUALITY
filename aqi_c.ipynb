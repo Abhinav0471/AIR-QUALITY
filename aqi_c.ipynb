{
 "cells": [
  {
   "cell_type": "code",
   "execution_count": 92,
   "metadata": {},
   "outputs": [],
   "source": [
    "import pandas as pd\n",
    "import numpy as np\n",
    "import matplotlib.pyplot as plt"
   ]
  },
  {
   "cell_type": "code",
   "execution_count": 93,
   "metadata": {},
   "outputs": [],
   "source": [
    "def avg_data_2013():\n",
    "    temp_i=0\n",
    "    average=[]\n",
    "    for rows in pd.read_csv('C:/practice/project/AIR QUALITY PROJECT/AQI/aqi2013.csv',chunksize=24):\n",
    "        add_var=0\n",
    "        avg=0.0\n",
    "        data=[]\n",
    "        df=pd.DataFrame(data=rows)\n",
    "        for index,row in df.iterrows():\n",
    "            data.append(row['PM2.5'])\n",
    "        for i in data:\n",
    "            if type(i) is float or type(i) is int:\n",
    "                add_var=add_var+i\n",
    "            elif type(i) is str:\n",
    "                if i!='NoData' and i!='PwrFail' and i!='---' and i!='InVld':\n",
    "                    temp=float(i)\n",
    "                    add_var=add_var+temp\n",
    "        avg=add_var/24\n",
    "        temp_i=temp_i+1\n",
    "        \n",
    "        average.append(avg)\n",
    "    return average"
   ]
  },
  {
   "cell_type": "code",
   "execution_count": 94,
   "metadata": {},
   "outputs": [],
   "source": [
    "def avg_data_2014():\n",
    "    temp_i=0\n",
    "    average=[]\n",
    "    for rows in pd.read_csv('C:/practice/project/AIR QUALITY PROJECT/AQI/aqi2014.csv',chunksize=24):\n",
    "        add_var=0\n",
    "        avg=0.0\n",
    "        data=[]\n",
    "        df=pd.DataFrame(data=rows)\n",
    "        for index,row in df.iterrows():\n",
    "            data.append(row['PM2.5'])\n",
    "        for i in data:\n",
    "            if type(i) is float or type(i) is int:\n",
    "                add_var=add_var+i\n",
    "            elif type(i) is str:\n",
    "                if i!='NoData' and i!='PwrFail' and i!='---' and i!='InVld':\n",
    "                    temp=float(i)\n",
    "                    add_var=add_var+temp\n",
    "        avg=add_var/24\n",
    "        temp_i=temp_i+1\n",
    "        \n",
    "        average.append(avg)\n",
    "    return average"
   ]
  },
  {
   "cell_type": "code",
   "execution_count": 95,
   "metadata": {},
   "outputs": [],
   "source": [
    "def avg_data_2015():\n",
    "    temp_i=0\n",
    "    average=[]\n",
    "    for rows in pd.read_csv('C:/practice/project/AIR QUALITY PROJECT/AQI/aqi2015.csv',chunksize=24):\n",
    "        add_var=0\n",
    "        avg=0.0\n",
    "        data=[]\n",
    "        df=pd.DataFrame(data=rows)\n",
    "        for index,row in df.iterrows():\n",
    "            data.append(row['PM2.5'])\n",
    "        for i in data:\n",
    "            if type(i) is float or type(i) is int:\n",
    "                add_var=add_var+i\n",
    "            elif type(i) is str:\n",
    "                if i!='NoData' and i!='PwrFail' and i!='---' and i!='InVld':\n",
    "                    temp=float(i)\n",
    "                    add_var=add_var+temp\n",
    "        avg=add_var/24\n",
    "        temp_i=temp_i+1\n",
    "        \n",
    "        average.append(avg)\n",
    "    return average"
   ]
  },
  {
   "cell_type": "code",
   "execution_count": 96,
   "metadata": {},
   "outputs": [],
   "source": [
    "def avg_data_2016():\n",
    "    temp_i=0\n",
    "    average=[]\n",
    "    for rows in pd.read_csv('C:/practice/project/AIR QUALITY PROJECT/AQI/aqi2016.csv',chunksize=24):\n",
    "        add_var=0\n",
    "        avg=0.0\n",
    "        data=[]\n",
    "        df=pd.DataFrame(data=rows)\n",
    "        for index,row in df.iterrows():\n",
    "            data.append(row['PM2.5'])\n",
    "        for i in data:\n",
    "            if type(i) is float or type(i) is int:\n",
    "                add_var=add_var+i\n",
    "            elif type(i) is str:\n",
    "                if i!='NoData' and i!='PwrFail' and i!='---' and i!='InVld':\n",
    "                    temp=float(i)\n",
    "                    add_var=add_var+temp\n",
    "        avg=add_var/24\n",
    "        temp_i=temp_i+1\n",
    "        \n",
    "        average.append(avg)\n",
    "    return average"
   ]
  },
  {
   "cell_type": "code",
   "execution_count": 97,
   "metadata": {},
   "outputs": [],
   "source": [
    "def avg_data_2017():\n",
    "    temp_i=0\n",
    "    average=[]\n",
    "    for rows in pd.read_csv('C:/practice/project/AIR QUALITY PROJECT/AQI/aqi2017.csv',chunksize=24):\n",
    "        add_var=0\n",
    "        avg=0.0\n",
    "        data=[]\n",
    "        df=pd.DataFrame(data=rows)\n",
    "        for index,row in df.iterrows():\n",
    "            data.append(row['PM2.5'])\n",
    "        for i in data:\n",
    "            if type(i) is float or type(i) is int:\n",
    "                add_var=add_var+i\n",
    "            elif type(i) is str:\n",
    "                if i!='NoData' and i!='PwrFail' and i!='---' and i!='InVld':\n",
    "                    temp=float(i)\n",
    "                    add_var=add_var+temp\n",
    "        avg=add_var/24\n",
    "        temp_i=temp_i+1\n",
    "        \n",
    "        average.append(avg)\n",
    "    return average"
   ]
  },
  {
   "cell_type": "code",
   "execution_count": 98,
   "metadata": {},
   "outputs": [],
   "source": [
    "def avg_data_2018():\n",
    "    temp_i=0\n",
    "    average=[]\n",
    "    for rows in pd.read_csv('C:/practice/project/AIR QUALITY PROJECT/AQI/aqi2018.csv',chunksize=24):\n",
    "        add_var=0\n",
    "        avg=0.0\n",
    "        data=[]\n",
    "        df=pd.DataFrame(data=rows)\n",
    "        for index,row in df.iterrows():\n",
    "            data.append(row['PM2.5'])\n",
    "        for i in data:\n",
    "            if type(i) is float or type(i) is int:\n",
    "                add_var=add_var+i\n",
    "            elif type(i) is str:\n",
    "                if i!='NoData' and i!='PwrFail' and i!='---' and i!='InVld':\n",
    "                    temp=float(i)\n",
    "                    add_var=add_var+temp\n",
    "        avg=add_var/24\n",
    "        temp_i=temp_i+1\n",
    "        \n",
    "        average.append(avg)\n",
    "    return average"
   ]
  },
  {
   "cell_type": "code",
   "execution_count": 99,
   "metadata": {},
   "outputs": [],
   "source": [
    "if __name__=='__main__':\n",
    "    aqi_2013=avg_data_2013()\n",
    "    aqi_2014=avg_data_2014()\n",
    "    aqi_2015=avg_data_2015()\n",
    "    aqi_2016=avg_data_2016()\n",
    "    aqi_2017=avg_data_2017()\n",
    "    aqi_2018=avg_data_2018()"
   ]
  },
  {
   "cell_type": "code",
   "execution_count": 100,
   "metadata": {},
   "outputs": [
    {
     "data": {
      "image/png": "[encoded data removed]",
      "text/plain": [
       "<Figure size 432x288 with 1 Axes>"
      ]
     },
     "metadata": {
      "needs_background": "light"
     },
     "output_type": "display_data"
    }
   ],
   "source": [
    "plt.plot(range(0,365),aqi_2013,label='2013')\n",
    "plt.plot(range(0,364),aqi_2014,label='2014')\n",
    "plt.plot(range(0,365),aqi_2015,label='2015')\n",
    "plt.plot(range(0,365),aqi_2016,label='2016')\n",
    "plt.plot(range(0,365),aqi_2017,label='2017')\n",
    "plt.plot(range(0,364),aqi_2018,label='2018')\n",
    "plt.show()"
   ]
  },
  {
   "cell_type": "code",
   "execution_count": 101,
   "metadata": {},
   "outputs": [],
   "source": [
    "x=avg_data_2013()\n",
    "df=pd.DataFrame(x)"
   ]
  },
  {
   "cell_type": "code",
   "execution_count": 102,
   "metadata": {},
   "outputs": [
    {
     "data": {
      "text/plain": [
       "0    0\n",
       "dtype: int64"
      ]
     },
     "execution_count": 102,
     "metadata": {},
     "output_type": "execute_result"
    }
   ],
   "source": [
    "(df>=1000).astype(int).sum()"
   ]
  },
  {
   "cell_type": "code",
   "execution_count": 103,
   "metadata": {},
   "outputs": [
    {
     "data": {
      "text/html": [
       "<div>\n",
       "<style scoped>\n",
       "    .dataframe tbody tr th:only-of-type {\n",
       "        vertical-align: middle;\n",
       "    }\n",
       "\n",
       "    .dataframe tbody tr th {\n",
       "        vertical-align: top;\n",
       "    }\n",
       "\n",
       "    .dataframe thead th {\n",
       "        text-align: right;\n",
       "    }\n",
       "</style>\n",
       "<table border=\"1\" class=\"dataframe\">\n",
       "  <thead>\n",
       "    <tr style=\"text-align: right;\">\n",
       "      <th></th>\n",
       "      <th>0</th>\n",
       "    </tr>\n",
       "  </thead>\n",
       "  <tbody>\n",
       "    <tr>\n",
       "      <th>0</th>\n",
       "      <td>284.795833</td>\n",
       "    </tr>\n",
       "    <tr>\n",
       "      <th>1</th>\n",
       "      <td>219.720833</td>\n",
       "    </tr>\n",
       "    <tr>\n",
       "      <th>2</th>\n",
       "      <td>182.187500</td>\n",
       "    </tr>\n",
       "    <tr>\n",
       "      <th>3</th>\n",
       "      <td>115.287500</td>\n",
       "    </tr>\n",
       "    <tr>\n",
       "      <th>4</th>\n",
       "      <td>0.000000</td>\n",
       "    </tr>\n",
       "  </tbody>\n",
       "</table>\n",
       "</div>"
      ],
      "text/plain": [
       "            0\n",
       "0  284.795833\n",
       "1  219.720833\n",
       "2  182.187500\n",
       "3  115.287500\n",
       "4    0.000000"
      ]
     },
     "execution_count": 103,
     "metadata": {},
     "output_type": "execute_result"
    }
   ],
   "source": [
    "df.head()"
   ]
  },
  {
   "cell_type": "code",
   "execution_count": null,
   "metadata": {},
   "outputs": [],
   "source": []
  },
  {
   "cell_type": "code",
   "execution_count": null,
   "metadata": {},
   "outputs": [],
   "source": []
  }
 ],
 "metadata": {
  "kernelspec": {
   "display_name": "Python 3",
   "language": "python",
   "name": "python3"
  },
  "language_info": {
   "codemirror_mode": {
    "name": "ipython",
    "version": 3
   },
   "file_extension": ".py",
   "mimetype": "text/x-python",
   "name": "python",
   "nbconvert_exporter": "python",
   "pygments_lexer": "ipython3",
   "version": "3.7.3"
  }
 },
 "nbformat": 4,
 "nbformat_minor": 2
}
